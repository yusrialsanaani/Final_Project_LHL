{
 "cells": [
  {
   "cell_type": "markdown",
   "id": "932d84ad",
   "metadata": {},
   "source": [
    "# The MovieLens 25M dataset"
   ]
  },
  {
   "cell_type": "markdown",
   "id": "183a96c7",
   "metadata": {},
   "source": [
    "This dataset (ml-25m) describes 5-star rating and free-text tagging activity from [MovieLens](http://movielens.org), a movie recommendation service.\n",
    ">It contains 25000095 ratings and 1093360 tag applications across 62423 movies. These data were created by 162541 users between January 09, 1995 and November 21, 2019. This dataset was generated on November 21, 2019.\n",
    "\n",
    ">Users were selected at random for inclusion. All selected users had rated at least 20 movies. No demographic information is included. Each user is represented by an id, and no other information is provided.\n",
    "\n",
    "\n",
    "There are 6 tables in this dataset as follows:\n",
    "  1. ratings.csv (userId, movieId, rating,timestamp)\n",
    "  2. movies.csv (movie, title, genres)\n",
    "  3. tags.csv (userId, movieId, tag, timestamp)\n",
    "  4. links.csv (movieId, imdbId, tmdbId)\n",
    "  5. genome_score.csv (movieId, tagId, relevance)\n",
    "  6. genome_tag.csv (tag, tagId)\n",
    "\n",
    "The download link is https://grouplens.org/datasets/movielens/\n",
    "\n",
    "More details can be found here:http://files.grouplens.org/datasets/movielens/ml-latest-README.html"
   ]
  },
  {
   "cell_type": "code",
   "execution_count": null,
   "id": "947173ac",
   "metadata": {},
   "outputs": [],
   "source": []
  }
 ],
 "metadata": {
  "kernelspec": {
   "display_name": "Python 3 (ipykernel)",
   "language": "python",
   "name": "python3"
  },
  "language_info": {
   "codemirror_mode": {
    "name": "ipython",
    "version": 3
   },
   "file_extension": ".py",
   "mimetype": "text/x-python",
   "name": "python",
   "nbconvert_exporter": "python",
   "pygments_lexer": "ipython3",
   "version": "3.9.7"
  }
 },
 "nbformat": 4,
 "nbformat_minor": 5
}
